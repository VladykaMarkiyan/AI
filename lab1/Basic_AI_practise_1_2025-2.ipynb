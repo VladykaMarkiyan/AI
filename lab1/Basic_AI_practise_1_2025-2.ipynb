{
  "nbformat": 4,
  "nbformat_minor": 0,
  "metadata": {
    "colab": {
      "provenance": [],
      "collapsed_sections": [
        "dwSyU2AjXwc-"
      ]
    },
    "kernelspec": {
      "name": "python3",
      "display_name": "Python 3"
    },
    "language_info": {
      "name": "python"
    }
  },
  "cells": [
    {
      "cell_type": "markdown",
      "source": [
        "**Оцінювання даної роботи буде ураховувати якість Вашого коду та текстових відповідей. При наявності ЛИШЕ коду , робота оцінюватися НЕ БУДЕ.**  \n",
        "\n",
        "**Оформлення текстових відповідей повинно проводитися в текстових комірках ноутбука з використанням синтаксису [LaTeX](https://en.wikibooks.org/wiki/LaTeX/Basics) для оформлення тексту та формул.**\n",
        "\n",
        "**Роботи ідентифіковані як ІДЕНТИЧНІ одразу отримують 0 балів.**\n",
        "\n",
        "**При реалізації завдань потрібно використовувати методи з бібліотеки numpy та pandas.**\n",
        "\n",
        "**Рішення з циклами будуть оцінені в 0 балів.**"
      ],
      "metadata": {
        "id": "fQcvdlwdimQb"
      }
    },
    {
      "cell_type": "markdown",
      "source": [
        "# I. NumPy."
      ],
      "metadata": {
        "id": "UfI7FZudfGwv"
      }
    },
    {
      "cell_type": "markdown",
      "source": [
        "0. Імпортувати numpy загальноприйнятим способом."
      ],
      "metadata": {
        "id": "XmA3PWg8fJxn"
      }
    },
    {
      "cell_type": "code",
      "execution_count": null,
      "metadata": {
        "id": "JUli5tR8eTXG"
      },
      "outputs": [],
      "source": []
    },
    {
      "cell_type": "markdown",
      "source": [
        "1. Визначити список з оцінками студента(ки) за семестр. Використовуючи його, створити одновимірний масив numpy."
      ],
      "metadata": {
        "id": "fppWPwoFjTrl"
      }
    },
    {
      "cell_type": "code",
      "source": [],
      "metadata": {
        "id": "cuvs9lNAjVoB"
      },
      "execution_count": null,
      "outputs": []
    },
    {
      "cell_type": "markdown",
      "source": [
        "2. Визначити список зі списками, де кожен рядок списку формально означає магазин, а кожна колонка - певний продукт (батон, яйця першої категорії, молоко та ковбаса), а елементами на пересічі є ціни на ці продукти відповідно. Використовуючи цей список, створити матрицю (двовимірний масив) numpy."
      ],
      "metadata": {
        "id": "OGeLtAwcjcMB"
      }
    },
    {
      "cell_type": "code",
      "source": [],
      "metadata": {
        "id": "zJ9kEAv5jcVo"
      },
      "execution_count": null,
      "outputs": []
    },
    {
      "cell_type": "markdown",
      "source": [
        "3. Отримайте тип даних значень з масивів завдань 2 та 3. Виведіть їх на екран."
      ],
      "metadata": {
        "id": "wK7wrEw2jcix"
      }
    },
    {
      "cell_type": "code",
      "source": [],
      "metadata": {
        "id": "uDBL1x6vjcq9"
      },
      "execution_count": null,
      "outputs": []
    },
    {
      "cell_type": "markdown",
      "source": [
        "4. Отримайте форми (кортеж з кількістю рядків та колонок) масивів завдань 2 та 3. Виведіть їх на екран."
      ],
      "metadata": {
        "id": "nNhAgsC3jcyp"
      }
    },
    {
      "cell_type": "code",
      "source": [],
      "metadata": {
        "id": "Fi5oXTI8jc4-"
      },
      "execution_count": null,
      "outputs": []
    },
    {
      "cell_type": "markdown",
      "source": [
        "5. Створіть одновимірний масив за допомогою спеціальної функції numpy, який би відображав динаміку стабільно зростаючого (з рівними проміжками) прибутку з продажів  за тиждень, де у перший день не було продажів, а в останній день тижня вдалося заробити 1000 грн 50 коп."
      ],
      "metadata": {
        "id": "bpY-N8QZjdW-"
      }
    },
    {
      "cell_type": "code",
      "source": [],
      "metadata": {
        "id": "r3LcjnUKjdeu"
      },
      "execution_count": null,
      "outputs": []
    },
    {
      "cell_type": "markdown",
      "source": [
        "6. Створіть два масиви. Використовуючи їх, продемонструйте відмінність вертикального та горизонтального обʼєднання масивів."
      ],
      "metadata": {
        "id": "zQM0SY9jjebO"
      }
    },
    {
      "cell_type": "code",
      "source": [],
      "metadata": {
        "id": "8uoi0_lxjeh-"
      },
      "execution_count": null,
      "outputs": []
    },
    {
      "cell_type": "markdown",
      "source": [
        "7. Визначити функцію, яка приймає на вході масив і транспонує його. Скористайтесь методом reshape. І не забудьте почати з docstrings."
      ],
      "metadata": {
        "id": "Fwh5D1pDm3t7"
      }
    },
    {
      "cell_type": "code",
      "source": [],
      "metadata": {
        "id": "FSWZq0mkm31Z"
      },
      "execution_count": null,
      "outputs": []
    },
    {
      "cell_type": "markdown",
      "source": [
        "8. Створіть два масиви. Використовучи ці масиви, продемонструйте 1) операцію по-елементного додавання, 2) операцію по-елементного віднімання, 3) множення масиву на число, 4) операцію по-елементного множення, і 5) матричного множення."
      ],
      "metadata": {
        "id": "Nnxk8vqYm379"
      }
    },
    {
      "cell_type": "code",
      "source": [],
      "metadata": {
        "id": "qO1rfvmVm4BI"
      },
      "execution_count": null,
      "outputs": []
    },
    {
      "cell_type": "markdown",
      "source": [
        "9. Створіть двовимірний масив (матрицю) та розрахуйте: 1) мінімальне число, 2) максимальне число, 3) суму чисел, 4) мінімальні числа для кожного рядка, 5) максимальні числа для кожного стовпчика."
      ],
      "metadata": {
        "id": "7aGdszTGuMCC"
      }
    },
    {
      "cell_type": "code",
      "source": [],
      "metadata": {
        "id": "RL_39YdauMKS"
      },
      "execution_count": null,
      "outputs": []
    },
    {
      "cell_type": "markdown",
      "source": [
        "10. Створіть матрицю , де деякі елементи повторюються. Знайдіть унікальні значення елементів цієї матриці та їхні частоти."
      ],
      "metadata": {
        "id": "c_hNdOpjHRFo"
      }
    },
    {
      "cell_type": "markdown",
      "source": [
        "# II. Importing. Creating DF"
      ],
      "metadata": {
        "id": "Usj7tyjnprEV"
      }
    },
    {
      "cell_type": "markdown",
      "source": [
        "0. Імпортувати бібліотеку pandas"
      ],
      "metadata": {
        "id": "ePGNrYa6pxRY"
      }
    },
    {
      "cell_type": "code",
      "source": [],
      "metadata": {
        "id": "KIPDNBqQpvkI"
      },
      "execution_count": null,
      "outputs": []
    },
    {
      "cell_type": "markdown",
      "source": [
        "11. Створити тестовий датафрейм зі списку, що містить записи пацієнтів про їхні прізвища, імена, дату народження, масу тіла та наявність медичного страхування. Одне зі значень зробить пустим. Ознайомтесь з типом кожної колонки."
      ],
      "metadata": {
        "id": "8g9-hgi5qWJv"
      }
    },
    {
      "cell_type": "code",
      "source": [],
      "metadata": {
        "id": "OvA4GvJ5qYb1"
      },
      "execution_count": null,
      "outputs": []
    },
    {
      "cell_type": "code",
      "source": [],
      "metadata": {
        "id": "9ioPRVvxqcQ7"
      },
      "execution_count": null,
      "outputs": []
    },
    {
      "cell_type": "markdown",
      "source": [
        "# III. Reading from file"
      ],
      "metadata": {
        "id": "b1SvVHjjqcv-"
      }
    },
    {
      "cell_type": "markdown",
      "source": [
        "12. Завантажити файл missile_attacks_daily.csv з [Kaggle](https://www.kaggle.com/datasets/piterfm/massive-missile-attacks-on-ukraine?select=missile_attacks_daily.csv). Ознайомитись з описом датасету. Додати файл до папки поточної сесії colab notebook на панелі ліворуч або на гугл диск (локально до проєкту, якщо працюєте у пайчармі). Зчитати датафрейм з файлу та вивести датафрейм на екран. Зверніть увагу на те, щоб всі колонки відповідали наведеним у описі типам даних."
      ],
      "metadata": {
        "id": "7HhZWLs_qhgq"
      }
    },
    {
      "cell_type": "code",
      "source": [],
      "metadata": {
        "id": "oQcB3kIqqg0h"
      },
      "execution_count": null,
      "outputs": []
    },
    {
      "cell_type": "markdown",
      "source": [
        "# IV. Data understanding"
      ],
      "metadata": {
        "id": "89zu0WNErzd2"
      }
    },
    {
      "cell_type": "markdown",
      "source": [
        "13. Виведіть на екран перші 10 рядків зчитаного датафрейму."
      ],
      "metadata": {
        "id": "LJqrTfHr2d1G"
      }
    },
    {
      "cell_type": "code",
      "source": [],
      "metadata": {
        "id": "GdVE9WYwr1sD"
      },
      "execution_count": null,
      "outputs": []
    },
    {
      "cell_type": "markdown",
      "source": [
        "14. Отримайте інформацію про форму датафрейму."
      ],
      "metadata": {
        "id": "1PtkLHWj2lq0"
      }
    },
    {
      "cell_type": "code",
      "source": [],
      "metadata": {
        "id": "CBPTYTjV2mtG"
      },
      "execution_count": null,
      "outputs": []
    },
    {
      "cell_type": "markdown",
      "source": [
        "15. Отримайте дані про кожну колонку з її назвою, типом даних та кількістю непустих значень."
      ],
      "metadata": {
        "id": "GDVcFC6F2yVz"
      }
    },
    {
      "cell_type": "code",
      "source": [],
      "metadata": {
        "id": "GTRgfKJ920bn"
      },
      "execution_count": null,
      "outputs": []
    },
    {
      "cell_type": "markdown",
      "source": [
        "16. Отримайте статистику для колонок числового типу."
      ],
      "metadata": {
        "id": "DEy-hgsw2452"
      }
    },
    {
      "cell_type": "code",
      "source": [],
      "metadata": {
        "id": "94mI2N9t267Q"
      },
      "execution_count": null,
      "outputs": []
    },
    {
      "cell_type": "markdown",
      "source": [
        "17. Отримати кількість унікальних значень у кожній колонці. Вивести на екран значення та кількість цих значень у колонці, яка має найменше унікальних значень."
      ],
      "metadata": {
        "id": "n0MGJU2C2-iD"
      }
    },
    {
      "cell_type": "code",
      "source": [],
      "metadata": {
        "id": "lQh_jdGe3BK5"
      },
      "execution_count": null,
      "outputs": []
    },
    {
      "cell_type": "code",
      "source": [],
      "metadata": {
        "id": "BlAeyE2q3tgd"
      },
      "execution_count": null,
      "outputs": []
    },
    {
      "cell_type": "markdown",
      "source": [
        "18. На основі отриманої інформації про датасет вище, опишіть по пунктах, що б ви виправили або на що б звернули увагу на кроці очищення даних і чому?"
      ],
      "metadata": {
        "id": "iVRkzUti3uC_"
      }
    },
    {
      "cell_type": "markdown",
      "source": [
        "**місце для текстової відповіді**\n",
        "\n",
        "1.   Пункт списку\n",
        "2.   Пункт списку\n",
        "\n",
        "...\n"
      ],
      "metadata": {
        "id": "9_Q-Fcuo30zY"
      }
    },
    {
      "cell_type": "markdown",
      "source": [
        "# V. Data Cleaning"
      ],
      "metadata": {
        "id": "Ue9ECz5-3_pq"
      }
    },
    {
      "cell_type": "markdown",
      "source": [
        "19. Перетворити колонку launched у цілочислену (Int64). Перевірити, чи все пройшло, як очікувалось."
      ],
      "metadata": {
        "id": "ZtHUiSrV4CL-"
      }
    },
    {
      "cell_type": "code",
      "source": [],
      "metadata": {
        "id": "AWyo_-Un3xqz"
      },
      "execution_count": null,
      "outputs": []
    },
    {
      "cell_type": "code",
      "source": [],
      "metadata": {
        "id": "ys_OfWeQ4OjW"
      },
      "execution_count": null,
      "outputs": []
    },
    {
      "cell_type": "markdown",
      "source": [
        "20. Видалити колонки, де кількість непустих значень становить менше 30% від загальної кількості записів."
      ],
      "metadata": {
        "id": "KsHhM4EM4O3d"
      }
    },
    {
      "cell_type": "code",
      "source": [],
      "metadata": {
        "id": "Z1ZCclle4Vyk"
      },
      "execution_count": null,
      "outputs": []
    },
    {
      "cell_type": "code",
      "source": [],
      "metadata": {
        "id": "MGrORLGe4XA2"
      },
      "execution_count": null,
      "outputs": []
    },
    {
      "cell_type": "markdown",
      "source": [
        "21. Очистити датафрейм від дублікатів (дублюючихся рядків) та записів, де атака продовжувалась відʼємну або нульову кількість часу (що фізично неможливо). Не забудьте оновити індекс. Скільки рядків було видалено? Як ви це перевірили у коді?"
      ],
      "metadata": {
        "id": "p8cD0M0U4cNT"
      }
    },
    {
      "cell_type": "code",
      "source": [],
      "metadata": {
        "id": "in3Fvn0I4l-I"
      },
      "execution_count": null,
      "outputs": []
    },
    {
      "cell_type": "markdown",
      "source": [
        "**місце для текстової відповіді**"
      ],
      "metadata": {
        "id": "8zqL82Ie4nqY"
      }
    },
    {
      "cell_type": "code",
      "source": [],
      "metadata": {
        "id": "GoHlOjXj4sIw"
      },
      "execution_count": null,
      "outputs": []
    },
    {
      "cell_type": "markdown",
      "source": [
        "22. Виведіть на екран всі рядки, де є хоч одне пропущене значення."
      ],
      "metadata": {
        "id": "6oZ7C_ry4uvb"
      }
    },
    {
      "cell_type": "code",
      "source": [],
      "metadata": {
        "id": "BPmCTDtg4wVS"
      },
      "execution_count": null,
      "outputs": []
    }
  ]
}