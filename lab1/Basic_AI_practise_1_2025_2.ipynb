{
  "nbformat": 4,
  "nbformat_minor": 0,
  "metadata": {
    "colab": {
      "provenance": []
    },
    "kernelspec": {
      "name": "python3",
      "display_name": "Python 3"
    },
    "language_info": {
      "name": "python"
    }
  },
  "cells": [
    {
      "cell_type": "markdown",
      "source": [
        "**Оцінювання даної роботи буде ураховувати якість Вашого коду та текстових відповідей. При наявності ЛИШЕ коду , робота оцінюватися НЕ БУДЕ.**  \n",
        "\n",
        "**Оформлення текстових відповідей повинно проводитися в текстових комірках ноутбука з використанням синтаксису [LaTeX](https://en.wikibooks.org/wiki/LaTeX/Basics) для оформлення тексту та формул.**\n",
        "\n",
        "**Роботи ідентифіковані як ІДЕНТИЧНІ одразу отримують 0 балів.**\n",
        "\n",
        "**При реалізації завдань потрібно використовувати методи з бібліотеки numpy та pandas.**\n",
        "\n",
        "**Рішення з циклами будуть оцінені в 0 балів.**"
      ],
      "metadata": {
        "id": "fQcvdlwdimQb"
      }
    },
    {
      "cell_type": "markdown",
      "source": [
        "# I. NumPy."
      ],
      "metadata": {
        "id": "UfI7FZudfGwv"
      }
    },
    {
      "cell_type": "markdown",
      "source": [
        "0. Імпортувати numpy загальноприйнятим способом."
      ],
      "metadata": {
        "id": "XmA3PWg8fJxn"
      }
    },
    {
      "cell_type": "code",
      "execution_count": null,
      "metadata": {
        "id": "JUli5tR8eTXG"
      },
      "outputs": [],
      "source": [
        "import numpy as np"
      ]
    },
    {
      "cell_type": "markdown",
      "source": [
        "1. Визначити список з оцінками студента(ки) за семестр. Використовуючи його, створити одновимірний масив numpy."
      ],
      "metadata": {
        "id": "fppWPwoFjTrl"
      }
    },
    {
      "cell_type": "code",
      "source": [
        "marks = [4, 5, 5, 4, 3, 3]\n",
        "marks_array = np.array(marks)\n",
        "print(marks_array)"
      ],
      "metadata": {
        "id": "cuvs9lNAjVoB",
        "colab": {
          "base_uri": "https://localhost:8080/"
        },
        "outputId": "0ff607e6-052c-45d3-b4a6-e02dceb895b4"
      },
      "execution_count": null,
      "outputs": [
        {
          "output_type": "stream",
          "name": "stdout",
          "text": [
            "[4 5 5 4 3 3]\n"
          ]
        }
      ]
    },
    {
      "cell_type": "markdown",
      "source": [
        "2. Визначити список зі списками, де кожен рядок списку формально означає магазин, а кожна колонка - певний продукт (батон, яйця першої категорії, молоко та ковбаса), а елементами на пересічі є ціни на ці продукти відповідно. Використовуючи цей список, створити матрицю (двовимірний масив) numpy."
      ],
      "metadata": {
        "id": "OGeLtAwcjcMB"
      }
    },
    {
      "cell_type": "code",
      "source": [
        "prices = [[\"        Bread, Eggs, Milk, Sausegges\"],\n",
        "         [\"Shop1    20      5    37       85         \"],\n",
        "         [\"Shop2    21      7    45       99         \"],\n",
        "         [\"Shop3    17      5    40       100        \"],\n",
        "         ]\n",
        "\n",
        "pricesMatrix = np.array(prices)\n",
        "print(pricesMatrix)"
      ],
      "metadata": {
        "id": "zJ9kEAv5jcVo",
        "colab": {
          "base_uri": "https://localhost:8080/"
        },
        "outputId": "7b0c9f27-3ef5-4d4f-8297-fed2dba7a0cf"
      },
      "execution_count": null,
      "outputs": [
        {
          "output_type": "stream",
          "name": "stdout",
          "text": [
            "[['        Bread, Eggs, Milk, Sausegges']\n",
            " ['Shop1    20      5    37       85         ']\n",
            " ['Shop2    21      7    45       99         ']\n",
            " ['Shop3    17      5    40       100        ']]\n"
          ]
        }
      ]
    },
    {
      "cell_type": "markdown",
      "source": [
        "3. Отримайте тип даних значень з масивів завдань 2 та 3. Виведіть їх на екран."
      ],
      "metadata": {
        "id": "wK7wrEw2jcix"
      }
    },
    {
      "cell_type": "code",
      "source": [
        "print(\"marks_array:\", marks_array.dtype, \"pricesMatrix:\", pricesMatrix.dtype)"
      ],
      "metadata": {
        "id": "uDBL1x6vjcq9",
        "colab": {
          "base_uri": "https://localhost:8080/"
        },
        "outputId": "fd842fb8-dcb6-4a03-dfe4-e41999156961"
      },
      "execution_count": null,
      "outputs": [
        {
          "output_type": "stream",
          "name": "stdout",
          "text": [
            "marks_array: int64 pricesMatrix: <U42\n"
          ]
        }
      ]
    },
    {
      "cell_type": "markdown",
      "source": [
        "4. Отримайте форми (кортеж з кількістю рядків та колонок) масивів завдань 2 та 3. Виведіть їх на екран."
      ],
      "metadata": {
        "id": "nNhAgsC3jcyp"
      }
    },
    {
      "cell_type": "code",
      "source": [
        "shape_marks = marks_array.shape\n",
        "shape_prices = pricesMatrix.shape\n",
        "print(\"marks_array:\", shape_marks, \"pricesMatrix:\", shape_prices)"
      ],
      "metadata": {
        "id": "Fi5oXTI8jc4-",
        "colab": {
          "base_uri": "https://localhost:8080/"
        },
        "outputId": "ba80bc86-8af3-4679-d4d0-c806077b8d06"
      },
      "execution_count": null,
      "outputs": [
        {
          "output_type": "stream",
          "name": "stdout",
          "text": [
            "marks_array: (6,) pricesMatrix: (4, 1)\n"
          ]
        }
      ]
    },
    {
      "cell_type": "markdown",
      "source": [
        "5. Створіть одновимірний масив за допомогою спеціальної функції numpy, який би відображав динаміку стабільно зростаючого (з рівними проміжками) прибутку з продажів  за тиждень, де у перший день не було продажів, а в останній день тижня вдалося заробити 1000 грн 50 коп."
      ],
      "metadata": {
        "id": "bpY-N8QZjdW-"
      }
    },
    {
      "cell_type": "code",
      "source": [
        "growth = np.linspace(0, 1000.50, 7)\n",
        "print(growth)"
      ],
      "metadata": {
        "id": "r3LcjnUKjdeu",
        "colab": {
          "base_uri": "https://localhost:8080/"
        },
        "outputId": "d472e4a5-1904-4543-b790-9e953a5aa327"
      },
      "execution_count": null,
      "outputs": [
        {
          "output_type": "stream",
          "name": "stdout",
          "text": [
            "[   0.    166.75  333.5   500.25  667.    833.75 1000.5 ]\n"
          ]
        }
      ]
    },
    {
      "cell_type": "markdown",
      "source": [
        "6. Створіть два масиви. Використовуючи їх, продемонструйте відмінність вертикального та горизонтального обʼєднання масивів."
      ],
      "metadata": {
        "id": "zQM0SY9jjebO"
      }
    },
    {
      "cell_type": "code",
      "source": [
        "array1 = np.array([3, 2, 6])\n",
        "array2 = np.array([0, 4, 9])\n",
        "\n",
        "vertical = np.vstack((array1, array2))\n",
        "horizontal = np.hstack((array1, array2))\n",
        "\n",
        "print(\"Vertical\", vertical)\n",
        "print(\"Horizontal\", horizontal)"
      ],
      "metadata": {
        "id": "8uoi0_lxjeh-",
        "colab": {
          "base_uri": "https://localhost:8080/"
        },
        "outputId": "07e23575-54b4-4816-9e4a-2a88e1329ffc"
      },
      "execution_count": null,
      "outputs": [
        {
          "output_type": "stream",
          "name": "stdout",
          "text": [
            "Vertical [[3 2 6]\n",
            " [0 4 9]]\n",
            "Horizontal [3 2 6 0 4 9]\n"
          ]
        }
      ]
    },
    {
      "cell_type": "markdown",
      "source": [
        "7. Визначити функцію, яка приймає на вході масив і транспонує його. Скористайтесь методом reshape. І не забудьте почати з docstrings."
      ],
      "metadata": {
        "id": "Fwh5D1pDm3t7"
      }
    },
    {
      "cell_type": "code",
      "source": [],
      "metadata": {
        "id": "FSWZq0mkm31Z"
      },
      "execution_count": null,
      "outputs": []
    },
    {
      "cell_type": "markdown",
      "source": [
        "8. Створіть два масиви. Використовучи ці масиви, продемонструйте 1) операцію по-елементного додавання, 2) операцію по-елементного віднімання, 3) множення масиву на число, 4) операцію по-елементного множення, і 5) матричного множення."
      ],
      "metadata": {
        "id": "Nnxk8vqYm379"
      }
    },
    {
      "cell_type": "code",
      "source": [
        "array3 = np.array([5, 3, 0])\n",
        "array4 = np.array([1, 7, 8])\n",
        "\n",
        "plus = array3 + array4\n",
        "minus = array3 - array4\n",
        "scalar = array3 * 2\n",
        "multiply = array3 * array4\n",
        "matrix_multiply = np.dot(array3, array4)\n",
        "\n",
        "print(\"1 Операція поелементного додавання:\", plus)\n",
        "print(\"2 Операція поелементного віднімання:\", minus)\n",
        "print(\"3 Множення масиву на число:\", scalar)\n",
        "print(\"4 Операція поелементного множення:\", multiply)\n",
        "print(\"5 Матричне множення:\", matrix_multiply)"
      ],
      "metadata": {
        "id": "qO1rfvmVm4BI",
        "colab": {
          "base_uri": "https://localhost:8080/"
        },
        "outputId": "a4929032-8f96-4e37-caba-7d33d685cfda"
      },
      "execution_count": null,
      "outputs": [
        {
          "output_type": "stream",
          "name": "stdout",
          "text": [
            "1 Операція поелементного додавання: [ 6 10  8]\n",
            "2 Операція поелементного віднімання: [ 4 -4 -8]\n",
            "3 Множення масиву на число: [10  6  0]\n",
            "4 Операція поелементного множення: [ 5 21  0]\n",
            "5 Матричне множення: 26\n"
          ]
        }
      ]
    },
    {
      "cell_type": "markdown",
      "source": [
        "9. Створіть двовимірний масив (матрицю) та розрахуйте: 1) мінімальне число, 2) максимальне число, 3) суму чисел, 4) мінімальні числа для кожного рядка, 5) максимальні числа для кожного стовпчика."
      ],
      "metadata": {
        "id": "7aGdszTGuMCC"
      }
    },
    {
      "cell_type": "code",
      "source": [
        "array5 = ([[4, 2, 6],\n",
        "          [1, 2, 0],\n",
        "          [5, 7, 2]])\n",
        "\n",
        "value_min = np.min(array5)\n",
        "value_max = np.max(array5)\n",
        "value_sum = np.sum(array5)\n",
        "row_min = np.min(array5, axis=1)\n",
        "column_max = np.max(array5, axis=0)\n",
        "\n",
        "print(\"1 Мінімальне число:\", value_min)\n",
        "print(\"2 Максимальне число:\", value_max)\n",
        "print(\"3 Сума чисел:\", value_sum)\n",
        "print(\"4 Мінімальні числа для кожного рядка:\", row_min)\n",
        "print(\"5 Максимальні числа для кожного стовпчика:\", column_max)"
      ],
      "metadata": {
        "id": "RL_39YdauMKS",
        "colab": {
          "base_uri": "https://localhost:8080/"
        },
        "outputId": "4fb0e79f-11d9-4233-b5c7-ac810db21272"
      },
      "execution_count": null,
      "outputs": [
        {
          "output_type": "stream",
          "name": "stdout",
          "text": [
            "1 Мінімальне число: 0\n",
            "2 Максимальне число: 7\n",
            "3 Сума чисел: 29\n",
            "4 Мінімальні числа для кожного рядка: [2 0 2]\n",
            "5 Максимальні числа для кожного стовпчика: [5 7 6]\n"
          ]
        }
      ]
    },
    {
      "cell_type": "markdown",
      "source": [
        "10. Створіть матрицю , де деякі елементи повторюються. Знайдіть унікальні значення елементів цієї матриці та їхні частоти."
      ],
      "metadata": {
        "id": "c_hNdOpjHRFo"
      }
    },
    {
      "cell_type": "code",
      "source": [
        "arrayrepeat = np.array([[1, 5, 2, 2],\n",
        "                   [4, 3, 8, 5],\n",
        "                   [6, 8, 9, 1]])\n",
        "\n",
        "unique_values, counts = np.unique(arrayrepeat, return_counts=True)\n",
        "\n",
        "print(\"Унікальні:\", unique_values)\n",
        "print(\"  Частота:\", counts)"
      ],
      "metadata": {
        "colab": {
          "base_uri": "https://localhost:8080/"
        },
        "id": "EUpT_coT_mpw",
        "outputId": "6bf48a00-67ee-4829-ef70-ec268258c7cc"
      },
      "execution_count": null,
      "outputs": [
        {
          "output_type": "stream",
          "name": "stdout",
          "text": [
            "Унікальні: [1 2 3 4 5 6 8 9]\n",
            "  Частота: [2 2 1 1 2 1 2 1]\n"
          ]
        }
      ]
    },
    {
      "cell_type": "markdown",
      "source": [
        "# II. Importing. Creating DF"
      ],
      "metadata": {
        "id": "Usj7tyjnprEV"
      }
    },
    {
      "cell_type": "markdown",
      "source": [
        "0. Імпортувати бібліотеку pandas"
      ],
      "metadata": {
        "id": "ePGNrYa6pxRY"
      }
    },
    {
      "cell_type": "code",
      "source": [
        "import pandas as pd"
      ],
      "metadata": {
        "id": "KIPDNBqQpvkI"
      },
      "execution_count": null,
      "outputs": []
    },
    {
      "cell_type": "markdown",
      "source": [
        "11. Створити тестовий датафрейм зі списку, що містить записи пацієнтів про їхні прізвища, імена, дату народження, масу тіла та наявність медичного страхування. Одне зі значень зробить пустим. Ознайомтесь з типом кожної колонки."
      ],
      "metadata": {
        "id": "8g9-hgi5qWJv"
      }
    },
    {
      "cell_type": "code",
      "source": [
        "Data = [[\"Griezmann\", \"Antoine\", 1991, 73, True ],\n",
        "        [\"Messi\", \"Lionel\", 1987, 67, True],\n",
        "        [\"Lino\", None, 1999, 69, False],\n",
        "        [\"Ronaldo\", \"Cristiano\", 1985, 83, True]]\n",
        "\n",
        "df = pd.DataFrame(Data, columns=(\"lastname\", \"firstname\", \"dateofbirth\", \"weight\", \"insurance\"))\n",
        "print(df.dtypes)"
      ],
      "metadata": {
        "id": "OvA4GvJ5qYb1",
        "colab": {
          "base_uri": "https://localhost:8080/"
        },
        "outputId": "f0f96f4a-601e-4b91-aec6-af7809e97ab6"
      },
      "execution_count": null,
      "outputs": [
        {
          "output_type": "stream",
          "name": "stdout",
          "text": [
            "lastname       object\n",
            "firstname      object\n",
            "dateofbirth     int64\n",
            "weight          int64\n",
            "insurance        bool\n",
            "dtype: object\n"
          ]
        }
      ]
    },
    {
      "cell_type": "markdown",
      "source": [
        "# III. Reading from file"
      ],
      "metadata": {
        "id": "b1SvVHjjqcv-"
      }
    },
    {
      "cell_type": "markdown",
      "source": [
        "12. Завантажити файл missile_attacks_daily.csv з [Kaggle](https://www.kaggle.com/datasets/piterfm/massive-missile-attacks-on-ukraine?select=missile_attacks_daily.csv). Ознайомитись з описом датасету. Додати файл до папки поточної сесії colab notebook на панелі ліворуч або на гугл диск (локально до проєкту, якщо працюєте у пайчармі). Зчитати датафрейм з файлу та вивести датафрейм на екран. Зверніть увагу на те, щоб всі колонки відповідали наведеним у описі типам даних."
      ],
      "metadata": {
        "id": "7HhZWLs_qhgq"
      }
    },
    {
      "cell_type": "code",
      "source": [
        "from google.colab import files\n",
        "uploaded = files.upload()\n",
        "\n",
        "df = pd.read_csv(\"missile_attacks_daily.csv\")\n",
        "print(df)"
      ],
      "metadata": {
        "id": "oQcB3kIqqg0h",
        "colab": {
          "base_uri": "https://localhost:8080/",
          "height": 1000
        },
        "outputId": "c4e0c794-4901-40e2-f481-42d8a77dd35c"
      },
      "execution_count": null,
      "outputs": [
        {
          "output_type": "display_data",
          "data": {
            "text/plain": [
              "<IPython.core.display.HTML object>"
            ],
            "text/html": [
              "\n",
              "     <input type=\"file\" id=\"files-52505f30-ef29-4529-b6f1-2a3dab19acf4\" name=\"files[]\" multiple disabled\n",
              "        style=\"border:none\" />\n",
              "     <output id=\"result-52505f30-ef29-4529-b6f1-2a3dab19acf4\">\n",
              "      Upload widget is only available when the cell has been executed in the\n",
              "      current browser session. Please rerun this cell to enable.\n",
              "      </output>\n",
              "      <script>// Copyright 2017 Google LLC\n",
              "//\n",
              "// Licensed under the Apache License, Version 2.0 (the \"License\");\n",
              "// you may not use this file except in compliance with the License.\n",
              "// You may obtain a copy of the License at\n",
              "//\n",
              "//      http://www.apache.org/licenses/LICENSE-2.0\n",
              "//\n",
              "// Unless required by applicable law or agreed to in writing, software\n",
              "// distributed under the License is distributed on an \"AS IS\" BASIS,\n",
              "// WITHOUT WARRANTIES OR CONDITIONS OF ANY KIND, either express or implied.\n",
              "// See the License for the specific language governing permissions and\n",
              "// limitations under the License.\n",
              "\n",
              "/**\n",
              " * @fileoverview Helpers for google.colab Python module.\n",
              " */\n",
              "(function(scope) {\n",
              "function span(text, styleAttributes = {}) {\n",
              "  const element = document.createElement('span');\n",
              "  element.textContent = text;\n",
              "  for (const key of Object.keys(styleAttributes)) {\n",
              "    element.style[key] = styleAttributes[key];\n",
              "  }\n",
              "  return element;\n",
              "}\n",
              "\n",
              "// Max number of bytes which will be uploaded at a time.\n",
              "const MAX_PAYLOAD_SIZE = 100 * 1024;\n",
              "\n",
              "function _uploadFiles(inputId, outputId) {\n",
              "  const steps = uploadFilesStep(inputId, outputId);\n",
              "  const outputElement = document.getElementById(outputId);\n",
              "  // Cache steps on the outputElement to make it available for the next call\n",
              "  // to uploadFilesContinue from Python.\n",
              "  outputElement.steps = steps;\n",
              "\n",
              "  return _uploadFilesContinue(outputId);\n",
              "}\n",
              "\n",
              "// This is roughly an async generator (not supported in the browser yet),\n",
              "// where there are multiple asynchronous steps and the Python side is going\n",
              "// to poll for completion of each step.\n",
              "// This uses a Promise to block the python side on completion of each step,\n",
              "// then passes the result of the previous step as the input to the next step.\n",
              "function _uploadFilesContinue(outputId) {\n",
              "  const outputElement = document.getElementById(outputId);\n",
              "  const steps = outputElement.steps;\n",
              "\n",
              "  const next = steps.next(outputElement.lastPromiseValue);\n",
              "  return Promise.resolve(next.value.promise).then((value) => {\n",
              "    // Cache the last promise value to make it available to the next\n",
              "    // step of the generator.\n",
              "    outputElement.lastPromiseValue = value;\n",
              "    return next.value.response;\n",
              "  });\n",
              "}\n",
              "\n",
              "/**\n",
              " * Generator function which is called between each async step of the upload\n",
              " * process.\n",
              " * @param {string} inputId Element ID of the input file picker element.\n",
              " * @param {string} outputId Element ID of the output display.\n",
              " * @return {!Iterable<!Object>} Iterable of next steps.\n",
              " */\n",
              "function* uploadFilesStep(inputId, outputId) {\n",
              "  const inputElement = document.getElementById(inputId);\n",
              "  inputElement.disabled = false;\n",
              "\n",
              "  const outputElement = document.getElementById(outputId);\n",
              "  outputElement.innerHTML = '';\n",
              "\n",
              "  const pickedPromise = new Promise((resolve) => {\n",
              "    inputElement.addEventListener('change', (e) => {\n",
              "      resolve(e.target.files);\n",
              "    });\n",
              "  });\n",
              "\n",
              "  const cancel = document.createElement('button');\n",
              "  inputElement.parentElement.appendChild(cancel);\n",
              "  cancel.textContent = 'Cancel upload';\n",
              "  const cancelPromise = new Promise((resolve) => {\n",
              "    cancel.onclick = () => {\n",
              "      resolve(null);\n",
              "    };\n",
              "  });\n",
              "\n",
              "  // Wait for the user to pick the files.\n",
              "  const files = yield {\n",
              "    promise: Promise.race([pickedPromise, cancelPromise]),\n",
              "    response: {\n",
              "      action: 'starting',\n",
              "    }\n",
              "  };\n",
              "\n",
              "  cancel.remove();\n",
              "\n",
              "  // Disable the input element since further picks are not allowed.\n",
              "  inputElement.disabled = true;\n",
              "\n",
              "  if (!files) {\n",
              "    return {\n",
              "      response: {\n",
              "        action: 'complete',\n",
              "      }\n",
              "    };\n",
              "  }\n",
              "\n",
              "  for (const file of files) {\n",
              "    const li = document.createElement('li');\n",
              "    li.append(span(file.name, {fontWeight: 'bold'}));\n",
              "    li.append(span(\n",
              "        `(${file.type || 'n/a'}) - ${file.size} bytes, ` +\n",
              "        `last modified: ${\n",
              "            file.lastModifiedDate ? file.lastModifiedDate.toLocaleDateString() :\n",
              "                                    'n/a'} - `));\n",
              "    const percent = span('0% done');\n",
              "    li.appendChild(percent);\n",
              "\n",
              "    outputElement.appendChild(li);\n",
              "\n",
              "    const fileDataPromise = new Promise((resolve) => {\n",
              "      const reader = new FileReader();\n",
              "      reader.onload = (e) => {\n",
              "        resolve(e.target.result);\n",
              "      };\n",
              "      reader.readAsArrayBuffer(file);\n",
              "    });\n",
              "    // Wait for the data to be ready.\n",
              "    let fileData = yield {\n",
              "      promise: fileDataPromise,\n",
              "      response: {\n",
              "        action: 'continue',\n",
              "      }\n",
              "    };\n",
              "\n",
              "    // Use a chunked sending to avoid message size limits. See b/62115660.\n",
              "    let position = 0;\n",
              "    do {\n",
              "      const length = Math.min(fileData.byteLength - position, MAX_PAYLOAD_SIZE);\n",
              "      const chunk = new Uint8Array(fileData, position, length);\n",
              "      position += length;\n",
              "\n",
              "      const base64 = btoa(String.fromCharCode.apply(null, chunk));\n",
              "      yield {\n",
              "        response: {\n",
              "          action: 'append',\n",
              "          file: file.name,\n",
              "          data: base64,\n",
              "        },\n",
              "      };\n",
              "\n",
              "      let percentDone = fileData.byteLength === 0 ?\n",
              "          100 :\n",
              "          Math.round((position / fileData.byteLength) * 100);\n",
              "      percent.textContent = `${percentDone}% done`;\n",
              "\n",
              "    } while (position < fileData.byteLength);\n",
              "  }\n",
              "\n",
              "  // All done.\n",
              "  yield {\n",
              "    response: {\n",
              "      action: 'complete',\n",
              "    }\n",
              "  };\n",
              "}\n",
              "\n",
              "scope.google = scope.google || {};\n",
              "scope.google.colab = scope.google.colab || {};\n",
              "scope.google.colab._files = {\n",
              "  _uploadFiles,\n",
              "  _uploadFilesContinue,\n",
              "};\n",
              "})(self);\n",
              "</script> "
            ]
          },
          "metadata": {}
        },
        {
          "output_type": "stream",
          "name": "stdout",
          "text": [
            "Saving missile_attacks_daily.csv to missile_attacks_daily (6).csv\n",
            "            time_start          time_end               model  \\\n",
            "0     2025-02-01 21:00  2025-02-02 09:00      Shahed-136/131   \n",
            "1     2025-01-31 19:00  2025-02-01 09:00           X-59/X-69   \n",
            "2     2025-01-31 19:00  2025-02-01 09:00               X-31P   \n",
            "3     2025-01-31 19:00  2025-02-01 09:00           X-22/X-32   \n",
            "4     2025-01-31 19:00  2025-02-01 09:00         X-101/X-555   \n",
            "...                ...               ...                 ...   \n",
            "2069  2022-10-01 12:00  2022-10-01 12:00            Orlan-10   \n",
            "2070        2022-09-30        2022-09-30            Orlan-10   \n",
            "2071  2022-09-29 23:00  2022-09-29 23:59      Shahed-136/131   \n",
            "2072        2022-09-28        2022-09-28                X-59   \n",
            "2073        2022-09-28        2022-09-28  Reconnaissance UAV   \n",
            "\n",
            "                                           launch_place  \\\n",
            "0     Primorsko-Akhtarsk and Kursk oblast and Oryol ...   \n",
            "1                                       Voronezh oblast   \n",
            "2                                             Black Sea   \n",
            "3                                                   NaN   \n",
            "4                                                   NaN   \n",
            "...                                                 ...   \n",
            "2069                                                NaN   \n",
            "2070                                                NaN   \n",
            "2071                                                NaN   \n",
            "2072                                                NaN   \n",
            "2073                                                NaN   \n",
            "\n",
            "                                             target  carrier  launched  \\\n",
            "0                                           Ukraine      NaN      55.0   \n",
            "1                                           Ukraine      NaN      10.0   \n",
            "2                                           Ukraine      NaN       2.0   \n",
            "3                                           Ukraine  Tu-22M3       8.0   \n",
            "4                                           Ukraine  Tu-95MS       8.0   \n",
            "...                                             ...      ...       ...   \n",
            "2069                                        Ukraine      NaN       1.0   \n",
            "2070                                        Ukraine      NaN       3.0   \n",
            "2071               Odesa oblast and Mykolaiv oblast      NaN       7.0   \n",
            "2072  Dnipropetrovsk oblast and Zaporizhzhia oblast    Su-35       5.0   \n",
            "2073                                        Ukraine      NaN       3.0   \n",
            "\n",
            "     destroyed  not_reach_goal  cross_border_belarus  back_russia  \\\n",
            "0           40            13.0                   NaN          NaN   \n",
            "1      Unknown             NaN                   NaN          NaN   \n",
            "2      Unknown             NaN                   NaN          NaN   \n",
            "3      Unknown             NaN                   NaN          NaN   \n",
            "4      Unknown             NaN                   NaN          NaN   \n",
            "...        ...             ...                   ...          ...   \n",
            "2069         1             NaN                   NaN          NaN   \n",
            "2070         3             NaN                   NaN          NaN   \n",
            "2071         5             NaN                   NaN          NaN   \n",
            "2072         4             NaN                   NaN          NaN   \n",
            "2073         3             NaN                   NaN          NaN   \n",
            "\n",
            "      still_attacking                    affected region  \\\n",
            "0                 NaN  ['Kharkiv oblast', 'Sumy oblast']   \n",
            "1                 NaN                                NaN   \n",
            "2                 NaN                                NaN   \n",
            "3                 NaN                                NaN   \n",
            "4                 NaN                                NaN   \n",
            "...               ...                                ...   \n",
            "2069              NaN                                NaN   \n",
            "2070              NaN                                NaN   \n",
            "2071              NaN                                NaN   \n",
            "2072              NaN                                NaN   \n",
            "2073              NaN                                NaN   \n",
            "\n",
            "                                      destroyed_details launched_details  \\\n",
            "0     {'Odesa oblast and Mykolaiv oblast and Kherson...              NaN   \n",
            "1                                                   NaN              NaN   \n",
            "2                                                   NaN              NaN   \n",
            "3                                                   NaN              NaN   \n",
            "4                                                   NaN              NaN   \n",
            "...                                                 ...              ...   \n",
            "2069                                                NaN              NaN   \n",
            "2070                                                NaN              NaN   \n",
            "2071                                                NaN              NaN   \n",
            "2072                                                NaN              NaN   \n",
            "2073                                                NaN              NaN   \n",
            "\n",
            "     launch_place_details                                             source  \n",
            "0                     NaN  kpszsu/posts/pfbid027MDQHcpoaCZUeSLdSzw2kokeGh...  \n",
            "1                     NaN  kpszsu/posts/pfbid0aFVytMd4cuXwcV5sNnABLnxXo3r...  \n",
            "2                     NaN  kpszsu/posts/pfbid0aFVytMd4cuXwcV5sNnABLnxXo3r...  \n",
            "3                     NaN  kpszsu/posts/pfbid0aFVytMd4cuXwcV5sNnABLnxXo3r...  \n",
            "4                     NaN  kpszsu/posts/pfbid0aFVytMd4cuXwcV5sNnABLnxXo3r...  \n",
            "...                   ...                                                ...  \n",
            "2069                  NaN                           watch/?v=375517448001233  \n",
            "2070                  NaN  kpszsu/posts/pfbid0nELeXY4BpHrezv54Lk3gWPZJmcC...  \n",
            "2071                  NaN  kpszsu/posts/pfbid021aK2TqryAuB8gGrDYMTv3R8Xiu...  \n",
            "2072                  NaN  kpszsu/posts/pfbid02sjn5m7kosAfsm5bSUzpPwbLuH3...  \n",
            "2073                  NaN  kpszsu/posts/pfbid0grmBx6A5LbQ7PVTkSx7jTDgg4iU...  \n",
            "\n",
            "[2074 rows x 17 columns]\n"
          ]
        }
      ]
    },
    {
      "cell_type": "markdown",
      "source": [
        "# IV. Data understanding"
      ],
      "metadata": {
        "id": "89zu0WNErzd2"
      }
    },
    {
      "cell_type": "markdown",
      "source": [
        "13. Виведіть на екран перші 10 рядків зчитаного датафрейму."
      ],
      "metadata": {
        "id": "LJqrTfHr2d1G"
      }
    },
    {
      "cell_type": "code",
      "source": [
        "print(df.head(10))"
      ],
      "metadata": {
        "id": "GdVE9WYwr1sD",
        "colab": {
          "base_uri": "https://localhost:8080/"
        },
        "outputId": "38399480-6432-4844-b0c3-e171ebfce601"
      },
      "execution_count": null,
      "outputs": [
        {
          "output_type": "stream",
          "name": "stdout",
          "text": [
            "         time_start          time_end             model  \\\n",
            "0  2025-02-01 21:00  2025-02-02 09:00    Shahed-136/131   \n",
            "1  2025-01-31 19:00  2025-02-01 09:00         X-59/X-69   \n",
            "2  2025-01-31 19:00  2025-02-01 09:00             X-31P   \n",
            "3  2025-01-31 19:00  2025-02-01 09:00         X-22/X-32   \n",
            "4  2025-01-31 19:00  2025-02-01 09:00       X-101/X-555   \n",
            "5  2025-01-31 19:00  2025-02-01 09:00    Shahed-136/131   \n",
            "6  2025-01-31 19:00  2025-02-01 09:00  Iskander-M/KN-23   \n",
            "7  2025-01-31 19:00  2025-02-01 09:00        Iskander-K   \n",
            "8  2025-01-31 19:00  2025-01-31 21:00          Orlan-10   \n",
            "9  2025-01-31 19:00  2025-01-31 20:05        Iskander-M   \n",
            "\n",
            "                                        launch_place   target  carrier  \\\n",
            "0  Primorsko-Akhtarsk and Kursk oblast and Oryol ...  Ukraine      NaN   \n",
            "1                                    Voronezh oblast  Ukraine      NaN   \n",
            "2                                          Black Sea  Ukraine      NaN   \n",
            "3                                                NaN  Ukraine  Tu-22M3   \n",
            "4                                                NaN  Ukraine  Tu-95MS   \n",
            "5  Primorsko-Akhtarsk and Chauda, Crimea and Kurs...  Ukraine      NaN   \n",
            "6                                    Voronezh oblast  Ukraine      NaN   \n",
            "7                          Crimea and Donetsk oblast  Ukraine      NaN   \n",
            "8                                             Crimea    Odesa      NaN   \n",
            "9                                             Crimea    Odesa      NaN   \n",
            "\n",
            "   launched destroyed  not_reach_goal  cross_border_belarus  back_russia  \\\n",
            "0      55.0        40            13.0                   NaN          NaN   \n",
            "1      10.0   Unknown             NaN                   NaN          NaN   \n",
            "2       2.0   Unknown             NaN                   NaN          NaN   \n",
            "3       8.0   Unknown             NaN                   NaN          NaN   \n",
            "4       8.0   Unknown             NaN                   NaN          NaN   \n",
            "5     123.0        56            61.0                   NaN          NaN   \n",
            "6       4.0         0             NaN                   NaN          NaN   \n",
            "7       7.0         0             NaN                   NaN          NaN   \n",
            "8       1.0         1             NaN                   NaN          NaN   \n",
            "9       3.0         0             NaN                   NaN          NaN   \n",
            "\n",
            "   still_attacking                                    affected region  \\\n",
            "0              NaN                  ['Kharkiv oblast', 'Sumy oblast']   \n",
            "1              NaN                                                NaN   \n",
            "2              NaN                                                NaN   \n",
            "3              NaN                                                NaN   \n",
            "4              NaN                                                NaN   \n",
            "5              NaN  ['Kharkiv oblast', 'Sumy oblast', 'Zaporizhzhi...   \n",
            "6              NaN                                                NaN   \n",
            "7              NaN                                                NaN   \n",
            "8              NaN                                                NaN   \n",
            "9              NaN                                                NaN   \n",
            "\n",
            "                                   destroyed_details launched_details  \\\n",
            "0  {'Odesa oblast and Mykolaiv oblast and Kherson...              NaN   \n",
            "1                                                NaN              NaN   \n",
            "2                                                NaN              NaN   \n",
            "3                                                NaN              NaN   \n",
            "4                                                NaN              NaN   \n",
            "5                             {'west': 8, 'east': 2}              NaN   \n",
            "6                                                NaN              NaN   \n",
            "7                                                NaN              NaN   \n",
            "8                                                NaN              NaN   \n",
            "9                                                NaN              NaN   \n",
            "\n",
            "  launch_place_details                                             source  \n",
            "0                  NaN  kpszsu/posts/pfbid027MDQHcpoaCZUeSLdSzw2kokeGh...  \n",
            "1                  NaN  kpszsu/posts/pfbid0aFVytMd4cuXwcV5sNnABLnxXo3r...  \n",
            "2                  NaN  kpszsu/posts/pfbid0aFVytMd4cuXwcV5sNnABLnxXo3r...  \n",
            "3                  NaN  kpszsu/posts/pfbid0aFVytMd4cuXwcV5sNnABLnxXo3r...  \n",
            "4                  NaN  kpszsu/posts/pfbid0aFVytMd4cuXwcV5sNnABLnxXo3r...  \n",
            "5                  NaN  kpszsu/posts/pfbid0aFVytMd4cuXwcV5sNnABLnxXo3r...  \n",
            "6                  NaN  kpszsu/posts/pfbid0aFVytMd4cuXwcV5sNnABLnxXo3r...  \n",
            "7                  NaN  kpszsu/posts/pfbid0aFVytMd4cuXwcV5sNnABLnxXo3r...  \n",
            "8                  NaN  PvKPivden/posts/pfbid0geba6FrM4KMftaj7x4cM3b3Z...  \n",
            "9                  NaN  PvKPivden/posts/pfbid0geba6FrM4KMftaj7x4cM3b3Z...  \n"
          ]
        }
      ]
    },
    {
      "cell_type": "markdown",
      "source": [
        "14. Отримайте інформацію про форму датафрейму."
      ],
      "metadata": {
        "id": "1PtkLHWj2lq0"
      }
    },
    {
      "cell_type": "code",
      "source": [
        "print(df.shape)"
      ],
      "metadata": {
        "id": "CBPTYTjV2mtG",
        "colab": {
          "base_uri": "https://localhost:8080/"
        },
        "outputId": "f47015a8-1b77-419c-c08a-11b21847b617"
      },
      "execution_count": null,
      "outputs": [
        {
          "output_type": "stream",
          "name": "stdout",
          "text": [
            "(2074, 17)\n"
          ]
        }
      ]
    },
    {
      "cell_type": "markdown",
      "source": [
        "15. Отримайте дані про кожну колонку з її назвою, типом даних та кількістю непустих значень."
      ],
      "metadata": {
        "id": "GDVcFC6F2yVz"
      }
    },
    {
      "cell_type": "code",
      "source": [
        "print(df.info())"
      ],
      "metadata": {
        "id": "GTRgfKJ920bn",
        "colab": {
          "base_uri": "https://localhost:8080/"
        },
        "outputId": "ea263b86-c06f-4c36-cc6b-402f55ffcc4d"
      },
      "execution_count": null,
      "outputs": [
        {
          "output_type": "stream",
          "name": "stdout",
          "text": [
            "<class 'pandas.core.frame.DataFrame'>\n",
            "RangeIndex: 2074 entries, 0 to 2073\n",
            "Data columns (total 17 columns):\n",
            " #   Column                Non-Null Count  Dtype  \n",
            "---  ------                --------------  -----  \n",
            " 0   time_start            2074 non-null   object \n",
            " 1   time_end              2074 non-null   object \n",
            " 2   model                 2074 non-null   object \n",
            " 3   launch_place          1049 non-null   object \n",
            " 4   target                2046 non-null   object \n",
            " 5   carrier               227 non-null    object \n",
            " 6   launched              2071 non-null   float64\n",
            " 7   destroyed             2074 non-null   object \n",
            " 8   not_reach_goal        171 non-null    float64\n",
            " 9   cross_border_belarus  33 non-null     float64\n",
            " 10  back_russia           35 non-null     float64\n",
            " 11  still_attacking       31 non-null     float64\n",
            " 12  affected region       7 non-null      object \n",
            " 13  destroyed_details     308 non-null    object \n",
            " 14  launched_details      4 non-null      object \n",
            " 15  launch_place_details  4 non-null      object \n",
            " 16  source                2074 non-null   object \n",
            "dtypes: float64(5), object(12)\n",
            "memory usage: 275.6+ KB\n",
            "None\n"
          ]
        }
      ]
    },
    {
      "cell_type": "markdown",
      "source": [
        "16. Отримайте статистику для колонок числового типу."
      ],
      "metadata": {
        "id": "DEy-hgsw2452"
      }
    },
    {
      "cell_type": "code",
      "source": [
        "print(df.describe())"
      ],
      "metadata": {
        "id": "94mI2N9t267Q",
        "colab": {
          "base_uri": "https://localhost:8080/"
        },
        "outputId": "dd810650-0d9a-4b39-dbc9-63094450f2e5"
      },
      "execution_count": null,
      "outputs": [
        {
          "output_type": "stream",
          "name": "stdout",
          "text": [
            "          launched  not_reach_goal  cross_border_belarus  back_russia  \\\n",
            "count  2071.000000      171.000000             33.000000    35.000000   \n",
            "mean     11.100435       21.701754              2.303030     2.000000   \n",
            "std      22.032465       19.785882              2.023068     1.137593   \n",
            "min       1.000000        1.000000              1.000000     1.000000   \n",
            "25%       1.000000        4.500000              1.000000     1.000000   \n",
            "50%       2.000000       17.000000              2.000000     2.000000   \n",
            "75%       9.000000       31.000000              2.000000     3.000000   \n",
            "max     193.000000      105.000000             10.000000     5.000000   \n",
            "\n",
            "       still_attacking  \n",
            "count        31.000000  \n",
            "mean          2.709677  \n",
            "std           2.818907  \n",
            "min           1.000000  \n",
            "25%           1.000000  \n",
            "50%           1.000000  \n",
            "75%           3.500000  \n",
            "max          10.000000  \n"
          ]
        }
      ]
    },
    {
      "cell_type": "markdown",
      "source": [
        "17. Отримати кількість унікальних значень у кожній колонці. Вивести на екран значення та кількість цих значень у колонці, яка має найменше унікальних значень."
      ],
      "metadata": {
        "id": "n0MGJU2C2-iD"
      }
    },
    {
      "cell_type": "code",
      "source": [
        "min_unique = df.nunique().idxmin()\n",
        "value = df[min_unique].value_counts()\n",
        "\n",
        "print(value)"
      ],
      "metadata": {
        "id": "lQh_jdGe3BK5",
        "colab": {
          "base_uri": "https://localhost:8080/"
        },
        "outputId": "940c07ef-c347-4430-856b-7ddad14c704b"
      },
      "execution_count": null,
      "outputs": [
        {
          "output_type": "stream",
          "name": "stdout",
          "text": [
            "launched_details\n",
            "{'X-101/X-555': 50, 'Kalibr': 12}                     1\n",
            "{'X-101/X-555': 55, 'Kalibr': 24, 'Iskander-K': 7}    1\n",
            "{'X-101/X-555': 57, 'Kalibr': 28}                     1\n",
            "{'X-101/X-555': 77, 'Kalibr': 28, 'X-59/X-69': 10}    1\n",
            "Name: count, dtype: int64\n"
          ]
        }
      ]
    },
    {
      "cell_type": "markdown",
      "source": [
        "18. На основі отриманої інформації про датасет вище, опишіть по пунктах, що б ви виправили або на що б звернули увагу на кроці очищення даних і чому?"
      ],
      "metadata": {
        "id": "iVRkzUti3uC_"
      }
    },
    {
      "cell_type": "markdown",
      "source": [
        "**місце для текстової відповіді**\n",
        "\n",
        "1. Видалити дублікати, для того щоб зменшити розмір (рядків/стопців)\n",
        "2. Перевірити правильність часу у колонках start_time / end_time, якщо є неправдиві дати, видалити їх\n",
        "3. Звернути уваги на рядку, які мають null\n"
      ],
      "metadata": {
        "id": "9_Q-Fcuo30zY"
      }
    },
    {
      "cell_type": "markdown",
      "source": [
        "# V. Data Cleaning"
      ],
      "metadata": {
        "id": "Ue9ECz5-3_pq"
      }
    },
    {
      "cell_type": "markdown",
      "source": [
        "19. Перетворити колонку launched у цілочислену (Int64). Перевірити, чи все пройшло, як очікувалось."
      ],
      "metadata": {
        "id": "ZtHUiSrV4CL-"
      }
    },
    {
      "cell_type": "code",
      "source": [
        "df[\"launched\"] = df[\"launched\"].astype(\"Int64\")\n",
        "print(df[\"launched\"].dtypes)"
      ],
      "metadata": {
        "id": "AWyo_-Un3xqz",
        "colab": {
          "base_uri": "https://localhost:8080/"
        },
        "outputId": "5f0f754c-421f-4c7c-9758-9f6d46e80b6f"
      },
      "execution_count": null,
      "outputs": [
        {
          "output_type": "stream",
          "name": "stdout",
          "text": [
            "Int64\n"
          ]
        }
      ]
    },
    {
      "cell_type": "markdown",
      "source": [
        "20. Видалити колонки, де кількість непустих значень становить менше 30% від загальної кількості записів."
      ],
      "metadata": {
        "id": "KsHhM4EM4O3d"
      }
    },
    {
      "cell_type": "code",
      "source": [
        "notnull = 0.3 * len(df)\n",
        "df = df.dropna(axis=1, thresh=notnull)\n",
        "\n",
        "print(df)"
      ],
      "metadata": {
        "id": "Z1ZCclle4Vyk",
        "colab": {
          "base_uri": "https://localhost:8080/"
        },
        "outputId": "a88b8440-6c54-40ea-8d6f-52a676464b62"
      },
      "execution_count": null,
      "outputs": [
        {
          "output_type": "stream",
          "name": "stdout",
          "text": [
            "            time_start          time_end               model  \\\n",
            "0     2025-02-01 21:00  2025-02-02 09:00      Shahed-136/131   \n",
            "1     2025-01-31 19:00  2025-02-01 09:00           X-59/X-69   \n",
            "2     2025-01-31 19:00  2025-02-01 09:00               X-31P   \n",
            "3     2025-01-31 19:00  2025-02-01 09:00           X-22/X-32   \n",
            "4     2025-01-31 19:00  2025-02-01 09:00         X-101/X-555   \n",
            "...                ...               ...                 ...   \n",
            "2069  2022-10-01 12:00  2022-10-01 12:00            Orlan-10   \n",
            "2070        2022-09-30        2022-09-30            Orlan-10   \n",
            "2071  2022-09-29 23:00  2022-09-29 23:59      Shahed-136/131   \n",
            "2072        2022-09-28        2022-09-28                X-59   \n",
            "2073        2022-09-28        2022-09-28  Reconnaissance UAV   \n",
            "\n",
            "                                           launch_place  \\\n",
            "0     Primorsko-Akhtarsk and Kursk oblast and Oryol ...   \n",
            "1                                       Voronezh oblast   \n",
            "2                                             Black Sea   \n",
            "3                                                   NaN   \n",
            "4                                                   NaN   \n",
            "...                                                 ...   \n",
            "2069                                                NaN   \n",
            "2070                                                NaN   \n",
            "2071                                                NaN   \n",
            "2072                                                NaN   \n",
            "2073                                                NaN   \n",
            "\n",
            "                                             target  launched destroyed  \\\n",
            "0                                           Ukraine      55.0        40   \n",
            "1                                           Ukraine      10.0   Unknown   \n",
            "2                                           Ukraine       2.0   Unknown   \n",
            "3                                           Ukraine       8.0   Unknown   \n",
            "4                                           Ukraine       8.0   Unknown   \n",
            "...                                             ...       ...       ...   \n",
            "2069                                        Ukraine       1.0         1   \n",
            "2070                                        Ukraine       3.0         3   \n",
            "2071               Odesa oblast and Mykolaiv oblast       7.0         5   \n",
            "2072  Dnipropetrovsk oblast and Zaporizhzhia oblast       5.0         4   \n",
            "2073                                        Ukraine       3.0         3   \n",
            "\n",
            "                                                 source  \n",
            "0     kpszsu/posts/pfbid027MDQHcpoaCZUeSLdSzw2kokeGh...  \n",
            "1     kpszsu/posts/pfbid0aFVytMd4cuXwcV5sNnABLnxXo3r...  \n",
            "2     kpszsu/posts/pfbid0aFVytMd4cuXwcV5sNnABLnxXo3r...  \n",
            "3     kpszsu/posts/pfbid0aFVytMd4cuXwcV5sNnABLnxXo3r...  \n",
            "4     kpszsu/posts/pfbid0aFVytMd4cuXwcV5sNnABLnxXo3r...  \n",
            "...                                                 ...  \n",
            "2069                           watch/?v=375517448001233  \n",
            "2070  kpszsu/posts/pfbid0nELeXY4BpHrezv54Lk3gWPZJmcC...  \n",
            "2071  kpszsu/posts/pfbid021aK2TqryAuB8gGrDYMTv3R8Xiu...  \n",
            "2072  kpszsu/posts/pfbid02sjn5m7kosAfsm5bSUzpPwbLuH3...  \n",
            "2073  kpszsu/posts/pfbid0grmBx6A5LbQ7PVTkSx7jTDgg4iU...  \n",
            "\n",
            "[2074 rows x 8 columns]\n"
          ]
        }
      ]
    },
    {
      "cell_type": "markdown",
      "source": [
        "21. Очистити датафрейм від дублікатів (дублюючихся рядків) та записів, де атака продовжувалась відʼємну або нульову кількість часу (що фізично неможливо). Не забудьте оновити індекс. Скільки рядків було видалено? Як ви це перевірили у коді?"
      ],
      "metadata": {
        "id": "p8cD0M0U4cNT"
      }
    },
    {
      "cell_type": "code",
      "source": [
        "df[\"time_start\"] = pd.to_datetime(df[\"time_start\"])\n",
        "df[\"time_end\"] = pd.to_datetime(df[\"time_end\"])\n",
        "\n",
        "df = df.drop_duplicates()\n",
        "df = df[df[\"time_end\"] > df[\"time_start\"]]\n",
        "df = df.reset_index(drop=True)\n",
        "print(df)"
      ],
      "metadata": {
        "id": "in3Fvn0I4l-I",
        "colab": {
          "base_uri": "https://localhost:8080/"
        },
        "outputId": "f119e05f-cb28-480d-e92d-e0f2bc37eb85"
      },
      "execution_count": null,
      "outputs": [
        {
          "output_type": "stream",
          "name": "stdout",
          "text": [
            "             time_start            time_end           model  \\\n",
            "0   2025-02-01 21:00:00 2025-02-02 09:00:00  Shahed-136/131   \n",
            "1   2025-01-31 19:00:00 2025-02-01 09:00:00       X-59/X-69   \n",
            "2   2025-01-31 19:00:00 2025-02-01 09:00:00           X-31P   \n",
            "3   2025-01-31 19:00:00 2025-02-01 09:00:00       X-22/X-32   \n",
            "4   2025-01-31 19:00:00 2025-02-01 09:00:00     X-101/X-555   \n",
            "..                  ...                 ...             ...   \n",
            "456 2022-10-06 15:00:00 2022-10-06 20:00:00       Mohajer-6   \n",
            "457 2022-10-06 09:00:00 2022-10-06 11:30:00  Shahed-136/131   \n",
            "458 2022-10-06 09:00:00 2022-10-06 11:30:00       Mohajer-6   \n",
            "459 2022-10-02 00:00:00 2022-10-02 02:00:00  Shahed-136/131   \n",
            "460 2022-09-29 23:00:00 2022-09-29 23:59:00  Shahed-136/131   \n",
            "\n",
            "                                          launch_place  \\\n",
            "0    Primorsko-Akhtarsk and Kursk oblast and Oryol ...   \n",
            "1                                      Voronezh oblast   \n",
            "2                                            Black Sea   \n",
            "3                                                  NaN   \n",
            "4                                                  NaN   \n",
            "..                                                 ...   \n",
            "456                                                NaN   \n",
            "457                                                NaN   \n",
            "458                                                NaN   \n",
            "459                                                NaN   \n",
            "460                                                NaN   \n",
            "\n",
            "                               target  launched destroyed  \\\n",
            "0                             Ukraine      55.0        40   \n",
            "1                             Ukraine      10.0   Unknown   \n",
            "2                             Ukraine       2.0   Unknown   \n",
            "3                             Ukraine       8.0   Unknown   \n",
            "4                             Ukraine       8.0   Unknown   \n",
            "..                                ...       ...       ...   \n",
            "456                             south       1.0         1   \n",
            "457                   Mykolaiv oblast       2.0         2   \n",
            "458                   Mykolaiv oblast       1.0         1   \n",
            "459                   Mykolaiv oblast       7.0         5   \n",
            "460  Odesa oblast and Mykolaiv oblast       7.0         5   \n",
            "\n",
            "                                                source  \n",
            "0    kpszsu/posts/pfbid027MDQHcpoaCZUeSLdSzw2kokeGh...  \n",
            "1    kpszsu/posts/pfbid0aFVytMd4cuXwcV5sNnABLnxXo3r...  \n",
            "2    kpszsu/posts/pfbid0aFVytMd4cuXwcV5sNnABLnxXo3r...  \n",
            "3    kpszsu/posts/pfbid0aFVytMd4cuXwcV5sNnABLnxXo3r...  \n",
            "4    kpszsu/posts/pfbid0aFVytMd4cuXwcV5sNnABLnxXo3r...  \n",
            "..                                                 ...  \n",
            "456  kpszsu/posts/pfbid0rxEnbpvxAg8d8J5NW9ABgghPzcb...  \n",
            "457  kpszsu/posts/pfbid02YPkepucHoDQbmGfZURk8ScqNyM...  \n",
            "458  kpszsu/posts/pfbid02YPkepucHoDQbmGfZURk8ScqNyM...  \n",
            "459  kpszsu/posts/pfbid021aK2TqryAuB8gGrDYMTv3R8Xiu...  \n",
            "460  kpszsu/posts/pfbid021aK2TqryAuB8gGrDYMTv3R8Xiu...  \n",
            "\n",
            "[461 rows x 8 columns]\n"
          ]
        }
      ]
    },
    {
      "cell_type": "markdown",
      "source": [
        "Було видалено 1613 рядків, у 20 завданні після видалення колонок у нас залишилсоь 2074 рядки та 8 колонок. Після видалення дублікатів та від'ємну або нульову кількість часу атаки, у нас залишився 461 рядок. У коді перевірили за допомогою функції drop_duplicates"
      ],
      "metadata": {
        "id": "4NdcA5yRJ_TR"
      }
    },
    {
      "cell_type": "markdown",
      "source": [
        "22. Виведіть на екран всі рядки, де є хоч одне пропущене значення."
      ],
      "metadata": {
        "id": "6oZ7C_ry4uvb"
      }
    },
    {
      "cell_type": "code",
      "source": [
        "miss_df = df[df.isnull().any(axis=1)]\n",
        "miss_df = miss_df.reset_index(drop=True)\n",
        "print(miss_df)"
      ],
      "metadata": {
        "id": "BPmCTDtg4wVS",
        "colab": {
          "base_uri": "https://localhost:8080/"
        },
        "outputId": "180ad4e9-ba48-4029-a39d-8c2ad572701a"
      },
      "execution_count": null,
      "outputs": [
        {
          "output_type": "stream",
          "name": "stdout",
          "text": [
            "\n",
            "Частина 3: Рядки з пропущеними значеннями:\n",
            "             time_start            time_end           model launch_place  \\\n",
            "0   2025-01-31 19:00:00 2025-02-01 09:00:00       X-22/X-32          NaN   \n",
            "1   2025-01-31 19:00:00 2025-02-01 09:00:00     X-101/X-555          NaN   \n",
            "2   2025-01-03 12:00:00 2025-01-03 20:00:00       X-59/X-69          NaN   \n",
            "3   2025-01-03 12:00:00 2025-01-03 20:00:00      Iskander-M          NaN   \n",
            "4   2025-01-03 12:00:00 2025-01-03 20:00:00           C-300          NaN   \n",
            "..                  ...                 ...             ...          ...   \n",
            "117 2022-10-06 15:00:00 2022-10-06 20:00:00       Mohajer-6          NaN   \n",
            "118 2022-10-06 09:00:00 2022-10-06 11:30:00  Shahed-136/131          NaN   \n",
            "119 2022-10-06 09:00:00 2022-10-06 11:30:00       Mohajer-6          NaN   \n",
            "120 2022-10-02 00:00:00 2022-10-02 02:00:00  Shahed-136/131          NaN   \n",
            "121 2022-09-29 23:00:00 2022-09-29 23:59:00  Shahed-136/131          NaN   \n",
            "\n",
            "                               target  launched destroyed  \\\n",
            "0                             Ukraine       8.0   Unknown   \n",
            "1                             Ukraine       8.0   Unknown   \n",
            "2               Dnipropetrovsk oblast       3.0         3   \n",
            "3                    Chernihiv oblast       3.0         0   \n",
            "4                        Kursk oblast       5.0         0   \n",
            "..                                ...       ...       ...   \n",
            "117                             south       1.0         1   \n",
            "118                   Mykolaiv oblast       2.0         2   \n",
            "119                   Mykolaiv oblast       1.0         1   \n",
            "120                   Mykolaiv oblast       7.0         5   \n",
            "121  Odesa oblast and Mykolaiv oblast       7.0         5   \n",
            "\n",
            "                                                source  \n",
            "0    kpszsu/posts/pfbid0aFVytMd4cuXwcV5sNnABLnxXo3r...  \n",
            "1    kpszsu/posts/pfbid0aFVytMd4cuXwcV5sNnABLnxXo3r...  \n",
            "2    kpszsu/posts/pfbid02v1KGGb6TjgiYbVUoMCWPuAVZYn...  \n",
            "3    kpszsu/posts/pfbid02v1KGGb6TjgiYbVUoMCWPuAVZYn...  \n",
            "4    kpszsu/posts/pfbid02v1KGGb6TjgiYbVUoMCWPuAVZYn...  \n",
            "..                                                 ...  \n",
            "117  kpszsu/posts/pfbid0rxEnbpvxAg8d8J5NW9ABgghPzcb...  \n",
            "118  kpszsu/posts/pfbid02YPkepucHoDQbmGfZURk8ScqNyM...  \n",
            "119  kpszsu/posts/pfbid02YPkepucHoDQbmGfZURk8ScqNyM...  \n",
            "120  kpszsu/posts/pfbid021aK2TqryAuB8gGrDYMTv3R8Xiu...  \n",
            "121  kpszsu/posts/pfbid021aK2TqryAuB8gGrDYMTv3R8Xiu...  \n",
            "\n",
            "[122 rows x 8 columns]\n"
          ]
        }
      ]
    }
  ]
}